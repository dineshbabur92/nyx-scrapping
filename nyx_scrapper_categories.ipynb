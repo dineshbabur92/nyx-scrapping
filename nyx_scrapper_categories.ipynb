{
 "cells": [
  {
   "cell_type": "code",
   "execution_count": 7,
   "metadata": {
    "collapsed": false
   },
   "outputs": [
    {
     "name": "stdout",
     "output_type": "stream",
     "text": [
      "inserting into db, revlon\n",
      "inserted successfully!, 20\n"
     ]
    },
    {
     "ename": "TypeError",
     "evalue": "list indices must be integers or slices, not str",
     "output_type": "error",
     "traceback": [
      "\u001b[0;31m---------------------------------------------------------------------------\u001b[0m",
      "\u001b[0;31mTypeError\u001b[0m                                 Traceback (most recent call last)",
      "\u001b[0;32m<ipython-input-7-4481bd5813fe>\u001b[0m in \u001b[0;36m<module>\u001b[0;34m()\u001b[0m\n\u001b[1;32m     55\u001b[0m \u001b[1;32melse\u001b[0m\u001b[1;33m:\u001b[0m\u001b[1;33m\u001b[0m\u001b[0m\n\u001b[1;32m     56\u001b[0m     \u001b[0mprint\u001b[0m\u001b[1;33m(\u001b[0m\u001b[1;34m\"some problem with insertion\"\u001b[0m\u001b[1;33m)\u001b[0m\u001b[1;33m\u001b[0m\u001b[0m\n\u001b[0;32m---> 57\u001b[0;31m \u001b[0mlinks\u001b[0m \u001b[1;33m=\u001b[0m \u001b[1;33m{\u001b[0m\u001b[1;34m\"face\"\u001b[0m\u001b[1;33m:\u001b[0m \u001b[1;33m[\u001b[0m\u001b[0mlinks\u001b[0m\u001b[1;33m[\u001b[0m\u001b[1;34m\"face\"\u001b[0m\u001b[1;33m]\u001b[0m\u001b[1;33m[\u001b[0m\u001b[1;36m0\u001b[0m\u001b[1;33m]\u001b[0m\u001b[1;33m]\u001b[0m\u001b[1;33m}\u001b[0m\u001b[1;33m\u001b[0m\u001b[0m\n\u001b[0m",
      "\u001b[0;31mTypeError\u001b[0m: list indices must be integers or slices, not str"
     ]
    }
   ],
   "source": [
    "import time\n",
    "import pymongo\n",
    "\n",
    "from selenium import webdriver\n",
    "from selenium.common.exceptions import StaleElementReferenceException\n",
    "from selenium.webdriver.support.ui import WebDriverWait\n",
    "from selenium.common.exceptions import TimeoutException\n",
    "\n",
    "from pathlib import Path\n",
    "import os\n",
    "import datetime\n",
    "import traceback\n",
    "\n",
    "client = pymongo.MongoClient(\"localhost\", 27017)\n",
    "db = client.revlon\n",
    "print(\"inserting into db, \" + db.name)\n",
    "\n",
    "driver = webdriver.Firefox(\"D:\\\\Data\\\\Dinesh\\\\Work\\\\revlon\\\\geckodriver-v0.19.1-win64\");\n",
    "driver.get(\"https://www.nyxcosmetics.com\")\n",
    "driver.implicitly_wait(10)\n",
    "\n",
    "db.nyx_categories.delete_many({})\n",
    "links = []\n",
    "# links = {}\n",
    "# links[\"face\"] = []\n",
    "# links[\"eyes\"] = []\n",
    "# links[\"lips\"] = []\n",
    "list_elements = driver.find_elements_by_css_selector(\".cat_lips li a\")\n",
    "for e in list_elements:\n",
    "    links.append({\n",
    "        \"parent_category\": \"lips\",\n",
    "        \"category_name\": e.get_attribute(\"innerText\").strip(), \n",
    "        \"category_page\": e.get_attribute(\"href\"),\n",
    "        \"fetch_status\": 0\n",
    "    })\n",
    "list_elements = driver.find_elements_by_css_selector(\".cat_face li a\")\n",
    "for e in list_elements:\n",
    "    links.append({\n",
    "        \"parent_category\": \"face\",\n",
    "        \"category_name\": e.get_attribute(\"innerText\").strip(), \n",
    "        \"category_page\": e.get_attribute(\"href\"),\n",
    "        \"fetch_status\": 0\n",
    "    })\n",
    "list_elements = driver.find_elements_by_css_selector(\".cat_eyes li a\")\n",
    "for e in list_elements:\n",
    "    links.append({\n",
    "        \"parent_category\": \"eyes\",\n",
    "        \"category_name\": e.get_attribute(\"innerText\").strip(), \n",
    "        \"category_page\": e.get_attribute(\"href\"),\n",
    "        \"fetch_status\": 0\n",
    "    })\n",
    "category_inserts_result = db.nyx_categories.insert_many(links)\n",
    "if(len(category_inserts_result.inserted_ids) == len(links)):\n",
    "    print(\"inserted successfully!, \" + str(len(links)))\n",
    "else:\n",
    "    print(\"some problem with insertion\")\n",
    "# links = {\"face\": [links[\"face\"][0]]}"
   ]
  }
 ],
 "metadata": {
  "kernelspec": {
   "display_name": "Python 3",
   "language": "python",
   "name": "python3"
  },
  "language_info": {
   "codemirror_mode": {
    "name": "ipython",
    "version": 3
   },
   "file_extension": ".py",
   "mimetype": "text/x-python",
   "name": "python",
   "nbconvert_exporter": "python",
   "pygments_lexer": "ipython3",
   "version": "3.6.0"
  }
 },
 "nbformat": 4,
 "nbformat_minor": 2
}
