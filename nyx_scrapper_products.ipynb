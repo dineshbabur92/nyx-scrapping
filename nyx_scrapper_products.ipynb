{
 "cells": [
  {
   "cell_type": "code",
   "execution_count": 7,
   "metadata": {
    "collapsed": false
   },
   "outputs": [
    {
     "name": "stdout",
     "output_type": "stream",
     "text": [
      "inserting into db, revlon\n",
      "fetching for 20\n",
      "inserted successfully!, 6, for: lips_Liquid Lipstick\n",
      "inserted successfully!, 33, for: lips_Lipstick\n",
      "inserted successfully!, 29, for: lips_Lip Gloss\n",
      "inserted successfully!, 6, for: lips_Lip Liner\n",
      "inserted successfully!, 83, for: lips_Lip Sets\n",
      "inserted successfully!, 12, for: face_Foundation\n",
      "inserted successfully!, 31, for: face_Highlight + Contour\n",
      "inserted successfully!, 19, for: face_Primer\n",
      "inserted successfully!, 8, for: face_Concealer\n",
      "inserted successfully!, 5, for: face_Setting Spray\n",
      "inserted successfully!, 14, for: face_Blush\n",
      "inserted successfully!, 7, for: face_Bronzer\n",
      "inserted successfully!, 14, for: face_Powder\n",
      "inserted successfully!, 48, for: eyes_Eyeshadow\n",
      "inserted successfully!, 32, for: eyes_Eyeliner\n",
      "inserted successfully!, 17, for: eyes_Eyebrows\n",
      "inserted successfully!, 39, for: eyes_Palettes\n",
      "inserted successfully!, 11, for: eyes_Mascara\n",
      "inserted successfully!, 2, for: eyes_False Lashes\n",
      "inserted successfully!, 4, for: eyes_Eyeshadow Primer\n",
      "done!!!\n"
     ]
    }
   ],
   "source": [
    "import time\n",
    "import pymongo\n",
    "\n",
    "from selenium import webdriver\n",
    "from selenium.common.exceptions import StaleElementReferenceException\n",
    "from selenium.webdriver.support.ui import WebDriverWait\n",
    "from selenium.common.exceptions import TimeoutException\n",
    "\n",
    "from pathlib import Path\n",
    "import os\n",
    "import datetime\n",
    "import traceback\n",
    "\n",
    "client = pymongo.MongoClient(\"localhost\", 27017)\n",
    "db = client.revlon\n",
    "print(\"inserting into db, \" + db.name)\n",
    "\n",
    "driver = webdriver.Firefox(\"D:\\\\Data\\\\Dinesh\\\\Work\\\\revlon\\\\geckodriver-v0.19.1-win64\");\n",
    "driver.get(\"https://www.nyxcosmetics.com\")\n",
    "driver.implicitly_wait(10)\n",
    "\n",
    "db.nyx_products.delete_many({})\n",
    "categories = list(db.nyx_categories.find({}))\n",
    "print(\"fetching for \" + str(len(categories)))\n",
    "\n",
    "for category in categories:\n",
    "    products = []\n",
    "    driver.get(category[\"category_page\"] + \"?srule=best-sellers&viewall=1\")\n",
    "    product_elements = driver.find_elements_by_css_selector(\".b-product_tile\")\n",
    "    for product_element in product_elements:\n",
    "        href_element = product_element.find_element_by_css_selector(\".b-product_img-link\")\n",
    "        products.append({\n",
    "            \"category_name\": category[\"parent_category\"] + \"_\" + category[\"category_name\"],\n",
    "            \"listing_page\": category[\"category_page\"] + \"?srule=best-sellers&viewall=1\",\n",
    "            \"product_page\": href_element.get_attribute(\"href\"),\n",
    "            \"product_id_from_site\": product_element.get_attribute(\"data-itemid\"),\n",
    "            \"fetch_status\": 0\n",
    "        })\n",
    "    products_inserts_result = db.nyx_products.insert_many(products)\n",
    "    if(len(products_inserts_result.inserted_ids) == len(products)):\n",
    "        print(\"inserted successfully!, \" + str(len(products)) + \", for: \" + category[\"parent_category\"] + \"_\" + category[\"category_name\"])\n",
    "    else:\n",
    "        print(\"some problem with insertion\")\n",
    "print(\"done!!!\")"
   ]
  }
 ],
 "metadata": {
  "kernelspec": {
   "display_name": "Python 3",
   "language": "python",
   "name": "python3"
  },
  "language_info": {
   "codemirror_mode": {
    "name": "ipython",
    "version": 3
   },
   "file_extension": ".py",
   "mimetype": "text/x-python",
   "name": "python",
   "nbconvert_exporter": "python",
   "pygments_lexer": "ipython3",
   "version": "3.6.0"
  }
 },
 "nbformat": 4,
 "nbformat_minor": 2
}
