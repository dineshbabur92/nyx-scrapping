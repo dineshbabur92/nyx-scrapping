{
 "cells": [
  {
   "cell_type": "code",
   "execution_count": 45,
   "metadata": {
    "collapsed": true
   },
   "outputs": [],
   "source": [
    "import urllib, json, pandas\n",
    "from bson import ObjectId\n",
    "import datetime\n",
    "from IPython.display import clear_output\n",
    "import traceback\n",
    "\n",
    "class JSONEncoder(json.JSONEncoder):\n",
    "    def default(self, o):\n",
    "        if isinstance(o, ObjectId):\n",
    "            return str(o)\n",
    "        return json.JSONEncoder.default(self, o)"
   ]
  },
  {
   "cell_type": "code",
   "execution_count": 47,
   "metadata": {
    "collapsed": false
   },
   "outputs": [
    {
     "name": "stdout",
     "output_type": "stream",
     "text": [
      "inserting into db, revlon\n",
      "fetching 29 products\n",
      "fetching product id: NYX_521\n"
     ]
    },
    {
     "name": "stderr",
     "output_type": "stream",
     "text": [
      "Traceback (most recent call last):\n",
      "  File \"<ipython-input-47-daaede01d3ec>\", line 42, in <module>\n",
      "    product_info = json.loads(response.decode(\"utf-8\")[14:-1])[\"BatchedResults\"][\"q0\"][\"Includes\"][\"Products\"][str(product[\"product_id_from_site\"])]\n",
      "KeyError: 'Products'\n"
     ]
    },
    {
     "name": "stdout",
     "output_type": "stream",
     "text": [
      "fetching product id: NYX_525\n"
     ]
    },
    {
     "name": "stderr",
     "output_type": "stream",
     "text": [
      "Traceback (most recent call last):\n",
      "  File \"<ipython-input-47-daaede01d3ec>\", line 42, in <module>\n",
      "    product_info = json.loads(response.decode(\"utf-8\")[14:-1])[\"BatchedResults\"][\"q0\"][\"Includes\"][\"Products\"][str(product[\"product_id_from_site\"])]\n",
      "KeyError: 'Products'\n"
     ]
    },
    {
     "name": "stdout",
     "output_type": "stream",
     "text": [
      "fetching product id: NYX_483\n"
     ]
    },
    {
     "name": "stderr",
     "output_type": "stream",
     "text": [
      "Traceback (most recent call last):\n",
      "  File \"<ipython-input-47-daaede01d3ec>\", line 42, in <module>\n",
      "    product_info = json.loads(response.decode(\"utf-8\")[14:-1])[\"BatchedResults\"][\"q0\"][\"Includes\"][\"Products\"][str(product[\"product_id_from_site\"])]\n",
      "KeyError: 'Products'\n"
     ]
    },
    {
     "name": "stdout",
     "output_type": "stream",
     "text": [
      "fetching product id: NYX_481\n"
     ]
    },
    {
     "name": "stderr",
     "output_type": "stream",
     "text": [
      "Traceback (most recent call last):\n",
      "  File \"<ipython-input-47-daaede01d3ec>\", line 42, in <module>\n",
      "    product_info = json.loads(response.decode(\"utf-8\")[14:-1])[\"BatchedResults\"][\"q0\"][\"Includes\"][\"Products\"][str(product[\"product_id_from_site\"])]\n",
      "KeyError: 'Products'\n"
     ]
    },
    {
     "name": "stdout",
     "output_type": "stream",
     "text": [
      "fetching product id: NYX_490\n"
     ]
    },
    {
     "name": "stderr",
     "output_type": "stream",
     "text": [
      "Traceback (most recent call last):\n",
      "  File \"<ipython-input-47-daaede01d3ec>\", line 42, in <module>\n",
      "    product_info = json.loads(response.decode(\"utf-8\")[14:-1])[\"BatchedResults\"][\"q0\"][\"Includes\"][\"Products\"][str(product[\"product_id_from_site\"])]\n",
      "KeyError: 'Products'\n"
     ]
    },
    {
     "name": "stdout",
     "output_type": "stream",
     "text": [
      "fetching product id: NYX_497\n"
     ]
    },
    {
     "name": "stderr",
     "output_type": "stream",
     "text": [
      "Traceback (most recent call last):\n",
      "  File \"<ipython-input-47-daaede01d3ec>\", line 42, in <module>\n",
      "    product_info = json.loads(response.decode(\"utf-8\")[14:-1])[\"BatchedResults\"][\"q0\"][\"Includes\"][\"Products\"][str(product[\"product_id_from_site\"])]\n",
      "KeyError: 'Products'\n"
     ]
    },
    {
     "name": "stdout",
     "output_type": "stream",
     "text": [
      "fetching product id: NYX_498\n"
     ]
    },
    {
     "name": "stderr",
     "output_type": "stream",
     "text": [
      "Traceback (most recent call last):\n",
      "  File \"<ipython-input-47-daaede01d3ec>\", line 42, in <module>\n",
      "    product_info = json.loads(response.decode(\"utf-8\")[14:-1])[\"BatchedResults\"][\"q0\"][\"Includes\"][\"Products\"][str(product[\"product_id_from_site\"])]\n",
      "KeyError: 'Products'\n"
     ]
    },
    {
     "name": "stdout",
     "output_type": "stream",
     "text": [
      "fetching product id: NYX_488\n"
     ]
    },
    {
     "name": "stderr",
     "output_type": "stream",
     "text": [
      "Traceback (most recent call last):\n",
      "  File \"<ipython-input-47-daaede01d3ec>\", line 42, in <module>\n",
      "    product_info = json.loads(response.decode(\"utf-8\")[14:-1])[\"BatchedResults\"][\"q0\"][\"Includes\"][\"Products\"][str(product[\"product_id_from_site\"])]\n",
      "KeyError: 'Products'\n"
     ]
    },
    {
     "name": "stdout",
     "output_type": "stream",
     "text": [
      "fetching product id: NYX_493\n"
     ]
    },
    {
     "name": "stderr",
     "output_type": "stream",
     "text": [
      "Traceback (most recent call last):\n",
      "  File \"<ipython-input-47-daaede01d3ec>\", line 42, in <module>\n",
      "    product_info = json.loads(response.decode(\"utf-8\")[14:-1])[\"BatchedResults\"][\"q0\"][\"Includes\"][\"Products\"][str(product[\"product_id_from_site\"])]\n",
      "KeyError: 'Products'\n"
     ]
    },
    {
     "name": "stdout",
     "output_type": "stream",
     "text": [
      "fetching product id: NYX_495\n"
     ]
    },
    {
     "name": "stderr",
     "output_type": "stream",
     "text": [
      "Traceback (most recent call last):\n",
      "  File \"<ipython-input-47-daaede01d3ec>\", line 42, in <module>\n",
      "    product_info = json.loads(response.decode(\"utf-8\")[14:-1])[\"BatchedResults\"][\"q0\"][\"Includes\"][\"Products\"][str(product[\"product_id_from_site\"])]\n",
      "KeyError: 'Products'\n"
     ]
    },
    {
     "name": "stdout",
     "output_type": "stream",
     "text": [
      "fetching product id: NYX_458\n"
     ]
    },
    {
     "name": "stderr",
     "output_type": "stream",
     "text": [
      "Traceback (most recent call last):\n",
      "  File \"<ipython-input-47-daaede01d3ec>\", line 42, in <module>\n",
      "    product_info = json.loads(response.decode(\"utf-8\")[14:-1])[\"BatchedResults\"][\"q0\"][\"Includes\"][\"Products\"][str(product[\"product_id_from_site\"])]\n",
      "KeyError: 'Products'\n"
     ]
    },
    {
     "name": "stdout",
     "output_type": "stream",
     "text": [
      "fetching product id: NYX_471\n"
     ]
    },
    {
     "name": "stderr",
     "output_type": "stream",
     "text": [
      "Traceback (most recent call last):\n",
      "  File \"<ipython-input-47-daaede01d3ec>\", line 42, in <module>\n",
      "    product_info = json.loads(response.decode(\"utf-8\")[14:-1])[\"BatchedResults\"][\"q0\"][\"Includes\"][\"Products\"][str(product[\"product_id_from_site\"])]\n",
      "KeyError: 'Products'\n"
     ]
    },
    {
     "name": "stdout",
     "output_type": "stream",
     "text": [
      "fetching product id: NYX_479\n"
     ]
    },
    {
     "name": "stderr",
     "output_type": "stream",
     "text": [
      "Traceback (most recent call last):\n",
      "  File \"<ipython-input-47-daaede01d3ec>\", line 42, in <module>\n",
      "    product_info = json.loads(response.decode(\"utf-8\")[14:-1])[\"BatchedResults\"][\"q0\"][\"Includes\"][\"Products\"][str(product[\"product_id_from_site\"])]\n",
      "KeyError: 'Products'\n"
     ]
    },
    {
     "name": "stdout",
     "output_type": "stream",
     "text": [
      "fetching product id: NYX_459\n"
     ]
    },
    {
     "name": "stderr",
     "output_type": "stream",
     "text": [
      "Traceback (most recent call last):\n",
      "  File \"<ipython-input-47-daaede01d3ec>\", line 42, in <module>\n",
      "    product_info = json.loads(response.decode(\"utf-8\")[14:-1])[\"BatchedResults\"][\"q0\"][\"Includes\"][\"Products\"][str(product[\"product_id_from_site\"])]\n",
      "KeyError: 'Products'\n"
     ]
    },
    {
     "name": "stdout",
     "output_type": "stream",
     "text": [
      "fetching product id: NYX_463\n"
     ]
    },
    {
     "name": "stderr",
     "output_type": "stream",
     "text": [
      "Traceback (most recent call last):\n",
      "  File \"<ipython-input-47-daaede01d3ec>\", line 42, in <module>\n",
      "    product_info = json.loads(response.decode(\"utf-8\")[14:-1])[\"BatchedResults\"][\"q0\"][\"Includes\"][\"Products\"][str(product[\"product_id_from_site\"])]\n",
      "KeyError: 'Products'\n"
     ]
    },
    {
     "name": "stdout",
     "output_type": "stream",
     "text": [
      "fetching product id: NYX_467\n"
     ]
    },
    {
     "name": "stderr",
     "output_type": "stream",
     "text": [
      "Traceback (most recent call last):\n",
      "  File \"<ipython-input-47-daaede01d3ec>\", line 42, in <module>\n",
      "    product_info = json.loads(response.decode(\"utf-8\")[14:-1])[\"BatchedResults\"][\"q0\"][\"Includes\"][\"Products\"][str(product[\"product_id_from_site\"])]\n",
      "KeyError: 'Products'\n"
     ]
    },
    {
     "name": "stdout",
     "output_type": "stream",
     "text": [
      "fetching product id: NYX_457\n"
     ]
    },
    {
     "name": "stderr",
     "output_type": "stream",
     "text": [
      "Traceback (most recent call last):\n",
      "  File \"<ipython-input-47-daaede01d3ec>\", line 42, in <module>\n",
      "    product_info = json.loads(response.decode(\"utf-8\")[14:-1])[\"BatchedResults\"][\"q0\"][\"Includes\"][\"Products\"][str(product[\"product_id_from_site\"])]\n",
      "KeyError: 'Products'\n"
     ]
    },
    {
     "name": "stdout",
     "output_type": "stream",
     "text": [
      "fetching product id: NYX_465\n"
     ]
    },
    {
     "name": "stderr",
     "output_type": "stream",
     "text": [
      "Traceback (most recent call last):\n",
      "  File \"<ipython-input-47-daaede01d3ec>\", line 42, in <module>\n",
      "    product_info = json.loads(response.decode(\"utf-8\")[14:-1])[\"BatchedResults\"][\"q0\"][\"Includes\"][\"Products\"][str(product[\"product_id_from_site\"])]\n",
      "KeyError: 'Products'\n"
     ]
    },
    {
     "name": "stdout",
     "output_type": "stream",
     "text": [
      "fetching product id: NYX_494\n"
     ]
    },
    {
     "name": "stderr",
     "output_type": "stream",
     "text": [
      "Traceback (most recent call last):\n",
      "  File \"<ipython-input-47-daaede01d3ec>\", line 42, in <module>\n",
      "    product_info = json.loads(response.decode(\"utf-8\")[14:-1])[\"BatchedResults\"][\"q0\"][\"Includes\"][\"Products\"][str(product[\"product_id_from_site\"])]\n",
      "KeyError: 'Products'\n"
     ]
    },
    {
     "name": "stdout",
     "output_type": "stream",
     "text": [
      "fetching product id: NYX_496\n"
     ]
    },
    {
     "name": "stderr",
     "output_type": "stream",
     "text": [
      "Traceback (most recent call last):\n",
      "  File \"<ipython-input-47-daaede01d3ec>\", line 42, in <module>\n",
      "    product_info = json.loads(response.decode(\"utf-8\")[14:-1])[\"BatchedResults\"][\"q0\"][\"Includes\"][\"Products\"][str(product[\"product_id_from_site\"])]\n",
      "KeyError: 'Products'\n"
     ]
    },
    {
     "name": "stdout",
     "output_type": "stream",
     "text": [
      "fetching product id: NYX_484\n"
     ]
    },
    {
     "name": "stderr",
     "output_type": "stream",
     "text": [
      "Traceback (most recent call last):\n",
      "  File \"<ipython-input-47-daaede01d3ec>\", line 42, in <module>\n",
      "    product_info = json.loads(response.decode(\"utf-8\")[14:-1])[\"BatchedResults\"][\"q0\"][\"Includes\"][\"Products\"][str(product[\"product_id_from_site\"])]\n",
      "KeyError: 'Products'\n"
     ]
    },
    {
     "name": "stdout",
     "output_type": "stream",
     "text": [
      "fetching product id: NYX_487\n"
     ]
    },
    {
     "name": "stderr",
     "output_type": "stream",
     "text": [
      "Traceback (most recent call last):\n",
      "  File \"<ipython-input-47-daaede01d3ec>\", line 42, in <module>\n",
      "    product_info = json.loads(response.decode(\"utf-8\")[14:-1])[\"BatchedResults\"][\"q0\"][\"Includes\"][\"Products\"][str(product[\"product_id_from_site\"])]\n",
      "KeyError: 'Products'\n"
     ]
    },
    {
     "name": "stdout",
     "output_type": "stream",
     "text": [
      "fetching product id: NYX_489\n"
     ]
    },
    {
     "name": "stderr",
     "output_type": "stream",
     "text": [
      "Traceback (most recent call last):\n",
      "  File \"<ipython-input-47-daaede01d3ec>\", line 42, in <module>\n",
      "    product_info = json.loads(response.decode(\"utf-8\")[14:-1])[\"BatchedResults\"][\"q0\"][\"Includes\"][\"Products\"][str(product[\"product_id_from_site\"])]\n",
      "KeyError: 'Products'\n"
     ]
    },
    {
     "name": "stdout",
     "output_type": "stream",
     "text": [
      "fetching product id: NYX_492\n"
     ]
    },
    {
     "name": "stderr",
     "output_type": "stream",
     "text": [
      "Traceback (most recent call last):\n",
      "  File \"<ipython-input-47-daaede01d3ec>\", line 42, in <module>\n",
      "    product_info = json.loads(response.decode(\"utf-8\")[14:-1])[\"BatchedResults\"][\"q0\"][\"Includes\"][\"Products\"][str(product[\"product_id_from_site\"])]\n",
      "KeyError: 'Products'\n"
     ]
    },
    {
     "name": "stdout",
     "output_type": "stream",
     "text": [
      "fetching product id: NYX_474\n"
     ]
    },
    {
     "name": "stderr",
     "output_type": "stream",
     "text": [
      "Traceback (most recent call last):\n",
      "  File \"<ipython-input-47-daaede01d3ec>\", line 42, in <module>\n",
      "    product_info = json.loads(response.decode(\"utf-8\")[14:-1])[\"BatchedResults\"][\"q0\"][\"Includes\"][\"Products\"][str(product[\"product_id_from_site\"])]\n",
      "KeyError: 'Products'\n"
     ]
    },
    {
     "name": "stdout",
     "output_type": "stream",
     "text": [
      "fetching product id: NYX_469\n"
     ]
    },
    {
     "name": "stderr",
     "output_type": "stream",
     "text": [
      "Traceback (most recent call last):\n",
      "  File \"<ipython-input-47-daaede01d3ec>\", line 42, in <module>\n",
      "    product_info = json.loads(response.decode(\"utf-8\")[14:-1])[\"BatchedResults\"][\"q0\"][\"Includes\"][\"Products\"][str(product[\"product_id_from_site\"])]\n",
      "KeyError: 'Products'\n"
     ]
    },
    {
     "name": "stdout",
     "output_type": "stream",
     "text": [
      "fetching product id: NYX_461\n"
     ]
    },
    {
     "name": "stderr",
     "output_type": "stream",
     "text": [
      "Traceback (most recent call last):\n",
      "  File \"<ipython-input-47-daaede01d3ec>\", line 42, in <module>\n",
      "    product_info = json.loads(response.decode(\"utf-8\")[14:-1])[\"BatchedResults\"][\"q0\"][\"Includes\"][\"Products\"][str(product[\"product_id_from_site\"])]\n",
      "KeyError: 'Products'\n"
     ]
    },
    {
     "name": "stdout",
     "output_type": "stream",
     "text": [
      "fetching product id: NYX_480\n"
     ]
    },
    {
     "name": "stderr",
     "output_type": "stream",
     "text": [
      "Traceback (most recent call last):\n",
      "  File \"<ipython-input-47-daaede01d3ec>\", line 42, in <module>\n",
      "    product_info = json.loads(response.decode(\"utf-8\")[14:-1])[\"BatchedResults\"][\"q0\"][\"Includes\"][\"Products\"][str(product[\"product_id_from_site\"])]\n",
      "KeyError: 'Products'\n"
     ]
    },
    {
     "name": "stdout",
     "output_type": "stream",
     "text": [
      "fetching product id: NYX_584\n"
     ]
    },
    {
     "name": "stderr",
     "output_type": "stream",
     "text": [
      "Traceback (most recent call last):\n",
      "  File \"<ipython-input-47-daaede01d3ec>\", line 42, in <module>\n",
      "    product_info = json.loads(response.decode(\"utf-8\")[14:-1])[\"BatchedResults\"][\"q0\"][\"Includes\"][\"Products\"][str(product[\"product_id_from_site\"])]\n",
      "KeyError: 'Products'\n"
     ]
    }
   ],
   "source": [
    "import pymongo\n",
    "client = pymongo.MongoClient(\"localhost\", 27017)\n",
    "db = client.revlon\n",
    "print(\"inserting into db, \" + db.name)\n",
    "\n",
    "products = list(db.nyx_products.find({\"fetch_status\": 0}))\n",
    "# products = products[0:2]\n",
    "print(\"fetching \" + str(len(products)) + \" products\")\n",
    "\n",
    "DATA_PATH = \"D:\\\\Data\\\\Dinesh\\\\Work\\\\revlon\\\\nyx_data_final1\"\n",
    "\n",
    "MASTER_URL = '''\n",
    "https://api.bazaarvoice.com/data/batch.json?\n",
    "passkey=e7e8c07apoamt76yz4sc85yjz\n",
    "&apiversion=5.5\n",
    "&displaycode=17556-en_us\n",
    "&resource.q0=reviews\n",
    "&filter.q0=isratingsonly%3Aeq%3Afalse\n",
    "&filter.q0=productid%3Aeq%3A{0}\n",
    "&filter.q0=contentlocale%3Aeq%3Aen_US\n",
    "&sort.q0=submissiontime%3Adesc\n",
    "&stats.q0=reviews\n",
    "&filteredstats.q0=reviews\n",
    "&include.q0=authors%2Cproducts%2Ccomments\n",
    "&filter_reviews.q0=contentlocale%3Aeq%3Aen_US\n",
    "&filter_reviewcomments.q0=contentlocale%3Aeq%3Aen_US\n",
    "&filter_comments.q0=contentlocale%3Aeq%3Aen_US\n",
    "&limit.q0=100\n",
    "&offset.q0=0\n",
    "&limit_comments.q0=3\n",
    "&callback=bv_1111_20310\n",
    "'''\n",
    "MASTER_URL = MASTER_URL.replace(\"\\n\", \"\")\n",
    "\n",
    "\n",
    "fetched_products = 0\n",
    "for product in products:\n",
    "    try:\n",
    "        print(\"fetching product id: \" + str(product[\"product_id_from_site\"]))\n",
    "        response = urllib.request.urlopen(MASTER_URL.format(product[\"product_id_from_site\"])).read()\n",
    "        reviews = json.loads(response.decode(\"utf-8\")[14:-1])[\"BatchedResults\"][\"q0\"][\"Results\"]\n",
    "        product_info = json.loads(response.decode(\"utf-8\")[14:-1])[\"BatchedResults\"][\"q0\"][\"Includes\"][\"Products\"][str(product[\"product_id_from_site\"])]\n",
    "        authors_info = json.loads(response.decode(\"utf-8\")[14:-1])[\"BatchedResults\"][\"q0\"][\"Includes\"][\"Authors\"]\n",
    "        product_info_needed = {\n",
    "            \"category_id\": product_info[\"CategoryId\"],\n",
    "            \"product_name\": product_info[\"Name\"],\n",
    "            \"description\": product_info[\"Description\"],\n",
    "            \"category_name\": product[\"category_name\"],\n",
    "            \"product_id\": product_info[\"Id\"]\n",
    "        }\n",
    "        for review in reviews:\n",
    "            review.update(product_info_needed)\n",
    "            review[\"AuthorName\"] = authors_info[review[\"AuthorId\"]][\"UserNickname\"]\n",
    "        try: \n",
    "            reviews_insert = db.nyx_reviews.insert_many(reviews)\n",
    "            if(len(reviews_insert.inserted_ids) == len(reviews)):\n",
    "                print(\"reviews inserted successfully\")\n",
    "                product_update_result = db.nyx_products.update_one(\n",
    "                    { \"_id\": product[\"_id\"] }, \n",
    "                    { \n",
    "                        \"$set\": { \"fetch_status\": 1 }, \n",
    "                        \"$currentDate\": {\"lastModified\": True } \n",
    "                    }\n",
    "                )\n",
    "                if(product_update_result.modified_count == 1):\n",
    "                    print(\"product status updated successfully\")\n",
    "                else:\n",
    "                    print(\"cannot update product status\")\n",
    "            else:\n",
    "                print(\"reviews could not be inserted into db\")\n",
    "        except:\n",
    "            print(\"database insert exception\")\n",
    "            pass\n",
    "#         print(DATA_PATH\n",
    "#             + \"\\\\\"\n",
    "#             + product[\"product_id_from_site\"] + \"___\" + datetime.datetime.now().strftime('%m_%d_%Y_%H_%M_%S') \n",
    "#             + \".json\")\n",
    "        with open(\n",
    "            DATA_PATH\n",
    "            + \"\\\\\"\n",
    "            + product[\"product_id_from_site\"] + \"___\" + datetime.datetime.now().strftime('%m_%d_%Y_%H_%M_%S') \n",
    "            + \".json\", \"w\", encoding=\"utf-8\"\n",
    "        ) as output_file: \n",
    "            json.dump(json.loads(JSONEncoder().encode(reviews)), output_file)\n",
    "        fetched_products += 1\n",
    "        print(\"fetched \" + str(len(reviews)) \n",
    "              + \" reviews for product id, \" + str(product[\"product_id_from_site\"]) \n",
    "              + \". Total products fetched = \" + str(fetched_products))\n",
    "        clear_output()\n",
    "    except:\n",
    "        traceback.print_exc()\n",
    "        pass\n",
    "        \n"
   ]
  },
  {
   "cell_type": "code",
   "execution_count": 18,
   "metadata": {
    "collapsed": false
   },
   "outputs": [],
   "source": []
  }
 ],
 "metadata": {
  "kernelspec": {
   "display_name": "Python 3",
   "language": "python",
   "name": "python3"
  },
  "language_info": {
   "codemirror_mode": {
    "name": "ipython",
    "version": 3
   },
   "file_extension": ".py",
   "mimetype": "text/x-python",
   "name": "python",
   "nbconvert_exporter": "python",
   "pygments_lexer": "ipython3",
   "version": "3.6.0"
  }
 },
 "nbformat": 4,
 "nbformat_minor": 2
}
